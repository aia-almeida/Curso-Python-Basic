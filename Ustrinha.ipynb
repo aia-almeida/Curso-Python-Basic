{
  "nbformat": 4,
  "nbformat_minor": 0,
  "metadata": {
    "colab": {
      "provenance": [],
      "authorship_tag": "ABX9TyPD8uROA+O4suJ6M9rC1FGr",
      "include_colab_link": true
    },
    "kernelspec": {
      "name": "python3",
      "display_name": "Python 3"
    },
    "language_info": {
      "name": "python"
    }
  },
  "cells": [
    {
      "cell_type": "markdown",
      "metadata": {
        "id": "view-in-github",
        "colab_type": "text"
      },
      "source": [
        "<a href=\"https://colab.research.google.com/github/aia-almeida/Curso-Python-Basic/blob/main/Ustrinha.ipynb\" target=\"_parent\"><img src=\"https://colab.research.google.com/assets/colab-badge.svg\" alt=\"Open In Colab\"/></a>"
      ]
    },
    {
      "cell_type": "code",
      "execution_count": null,
      "metadata": {
        "colab": {
          "base_uri": "https://localhost:8080/"
        },
        "id": "Kq0JwpSnqQMl",
        "outputId": "4ab8c805-606e-479c-f4ed-c11390e5428d"
      },
      "outputs": [
        {
          "output_type": "stream",
          "name": "stdout",
          "text": [
            "Olá, meu nome é Ustra.\n"
          ]
        }
      ],
      "source": [
        "print(\"Olá, meu nome é Ustra.\")"
      ]
    },
    {
      "cell_type": "code",
      "source": [
        "#Exemplo 2 - Programa para calcular a média de altura\n",
        "\n",
        "print(\"esse programa irá calcular a média de altura de 5 pessoas\")\n",
        "\n",
        "altura1 = float(input(\"Digite a altura da primeira pessoa\"))\n",
        "altura2 = float(input(\"Digite a altura da primeira pessoa\"))\n",
        "altura3 = float(input(\"Digite a altura da primeira pessoa\"))\n",
        "altura4 = float(input(\"Digite a altura da primeira pessoa\"))\n",
        "altura5 = float(input(\"Digite a altura da primeira pessoa\"))\n",
        "\n",
        "\n",
        "média = (altura1 + altura2 + altura3 + altura4 + altura5) / 5\n",
        "\n",
        "print(\"A média das alturas é:\", média)\n",
        "\n",
        "\n",
        "\n"
      ],
      "metadata": {
        "colab": {
          "base_uri": "https://localhost:8080/",
          "height": 373
        },
        "id": "qEAl6SU06G2N",
        "outputId": "21b8fcf4-3b99-4f55-b648-b864c168e37c"
      },
      "execution_count": null,
      "outputs": [
        {
          "output_type": "stream",
          "name": "stdout",
          "text": [
            "esse programa irá calcular a média de altura de 5 pessoas\n"
          ]
        },
        {
          "output_type": "error",
          "ename": "KeyboardInterrupt",
          "evalue": "Interrupted by user",
          "traceback": [
            "\u001b[0;31m---------------------------------------------------------------------------\u001b[0m",
            "\u001b[0;31mKeyboardInterrupt\u001b[0m                         Traceback (most recent call last)",
            "\u001b[0;32m<ipython-input-20-ddc83de85090>\u001b[0m in \u001b[0;36m<cell line: 5>\u001b[0;34m()\u001b[0m\n\u001b[1;32m      3\u001b[0m \u001b[0mprint\u001b[0m\u001b[0;34m(\u001b[0m\u001b[0;34m\"esse programa irá calcular a média de altura de 5 pessoas\"\u001b[0m\u001b[0;34m)\u001b[0m\u001b[0;34m\u001b[0m\u001b[0;34m\u001b[0m\u001b[0m\n\u001b[1;32m      4\u001b[0m \u001b[0;34m\u001b[0m\u001b[0m\n\u001b[0;32m----> 5\u001b[0;31m \u001b[0maltura1\u001b[0m \u001b[0;34m=\u001b[0m \u001b[0mfloat\u001b[0m\u001b[0;34m(\u001b[0m\u001b[0minput\u001b[0m\u001b[0;34m(\u001b[0m\u001b[0;34m\"Digite a altura da primeira pessoa\"\u001b[0m\u001b[0;34m)\u001b[0m\u001b[0;34m)\u001b[0m\u001b[0;34m\u001b[0m\u001b[0;34m\u001b[0m\u001b[0m\n\u001b[0m\u001b[1;32m      6\u001b[0m \u001b[0maltura2\u001b[0m \u001b[0;34m=\u001b[0m \u001b[0mfloat\u001b[0m\u001b[0;34m(\u001b[0m\u001b[0minput\u001b[0m\u001b[0;34m(\u001b[0m\u001b[0;34m\"Digite a altura da primeira pessoa\"\u001b[0m\u001b[0;34m)\u001b[0m\u001b[0;34m)\u001b[0m\u001b[0;34m\u001b[0m\u001b[0;34m\u001b[0m\u001b[0m\n\u001b[1;32m      7\u001b[0m \u001b[0maltura3\u001b[0m \u001b[0;34m=\u001b[0m \u001b[0mfloat\u001b[0m\u001b[0;34m(\u001b[0m\u001b[0minput\u001b[0m\u001b[0;34m(\u001b[0m\u001b[0;34m\"Digite a altura da primeira pessoa\"\u001b[0m\u001b[0;34m)\u001b[0m\u001b[0;34m)\u001b[0m\u001b[0;34m\u001b[0m\u001b[0;34m\u001b[0m\u001b[0m\n",
            "\u001b[0;32m/usr/local/lib/python3.10/dist-packages/ipykernel/kernelbase.py\u001b[0m in \u001b[0;36mraw_input\u001b[0;34m(self, prompt)\u001b[0m\n\u001b[1;32m    849\u001b[0m                 \u001b[0;34m\"raw_input was called, but this frontend does not support input requests.\"\u001b[0m\u001b[0;34m\u001b[0m\u001b[0;34m\u001b[0m\u001b[0m\n\u001b[1;32m    850\u001b[0m             )\n\u001b[0;32m--> 851\u001b[0;31m         return self._input_request(str(prompt),\n\u001b[0m\u001b[1;32m    852\u001b[0m             \u001b[0mself\u001b[0m\u001b[0;34m.\u001b[0m\u001b[0m_parent_ident\u001b[0m\u001b[0;34m,\u001b[0m\u001b[0;34m\u001b[0m\u001b[0;34m\u001b[0m\u001b[0m\n\u001b[1;32m    853\u001b[0m             \u001b[0mself\u001b[0m\u001b[0;34m.\u001b[0m\u001b[0m_parent_header\u001b[0m\u001b[0;34m,\u001b[0m\u001b[0;34m\u001b[0m\u001b[0;34m\u001b[0m\u001b[0m\n",
            "\u001b[0;32m/usr/local/lib/python3.10/dist-packages/ipykernel/kernelbase.py\u001b[0m in \u001b[0;36m_input_request\u001b[0;34m(self, prompt, ident, parent, password)\u001b[0m\n\u001b[1;32m    893\u001b[0m             \u001b[0;32mexcept\u001b[0m \u001b[0mKeyboardInterrupt\u001b[0m\u001b[0;34m:\u001b[0m\u001b[0;34m\u001b[0m\u001b[0;34m\u001b[0m\u001b[0m\n\u001b[1;32m    894\u001b[0m                 \u001b[0;31m# re-raise KeyboardInterrupt, to truncate traceback\u001b[0m\u001b[0;34m\u001b[0m\u001b[0;34m\u001b[0m\u001b[0m\n\u001b[0;32m--> 895\u001b[0;31m                 \u001b[0;32mraise\u001b[0m \u001b[0mKeyboardInterrupt\u001b[0m\u001b[0;34m(\u001b[0m\u001b[0;34m\"Interrupted by user\"\u001b[0m\u001b[0;34m)\u001b[0m \u001b[0;32mfrom\u001b[0m \u001b[0;32mNone\u001b[0m\u001b[0;34m\u001b[0m\u001b[0;34m\u001b[0m\u001b[0m\n\u001b[0m\u001b[1;32m    896\u001b[0m             \u001b[0;32mexcept\u001b[0m \u001b[0mException\u001b[0m \u001b[0;32mas\u001b[0m \u001b[0me\u001b[0m\u001b[0;34m:\u001b[0m\u001b[0;34m\u001b[0m\u001b[0;34m\u001b[0m\u001b[0m\n\u001b[1;32m    897\u001b[0m                 \u001b[0mself\u001b[0m\u001b[0;34m.\u001b[0m\u001b[0mlog\u001b[0m\u001b[0;34m.\u001b[0m\u001b[0mwarning\u001b[0m\u001b[0;34m(\u001b[0m\u001b[0;34m\"Invalid Message:\"\u001b[0m\u001b[0;34m,\u001b[0m \u001b[0mexc_info\u001b[0m\u001b[0;34m=\u001b[0m\u001b[0;32mTrue\u001b[0m\u001b[0;34m)\u001b[0m\u001b[0;34m\u001b[0m\u001b[0;34m\u001b[0m\u001b[0m\n",
            "\u001b[0;31mKeyboardInterrupt\u001b[0m: Interrupted by user"
          ]
        }
      ]
    },
    {
      "cell_type": "code",
      "source": [
        "#Exemplo 3 - Programa para importa biblioteca math\n",
        "\n",
        "import math\n",
        "\n",
        "print(\"A raiz quadrada de 9 é:\", math.sqrt(9))\n",
        "print(\"A área da circuferência de raio 2 é\", math.pi * math.pow(2, 2))\n",
        "print(\"A área da circuferência de raio 2 é\", math.pi * (2)**2)\n",
        "\n"
      ],
      "metadata": {
        "colab": {
          "base_uri": "https://localhost:8080/"
        },
        "id": "lL74Trrx9sUU",
        "outputId": "d1d23ed0-51fe-42e6-d135-77b1ae845dfe"
      },
      "execution_count": null,
      "outputs": [
        {
          "output_type": "stream",
          "name": "stdout",
          "text": [
            "A raiz quadrada de 9 é: 3.0\n",
            "A área da circuferência de raio 2 é 12.566370614359172\n",
            "A área da circuferência de raio 2 é 12.566370614359172\n"
          ]
        }
      ]
    },
    {
      "cell_type": "code",
      "source": [
        "#Trabalhando com a função print\n",
        "\n",
        "print(\"Hello, Ustrinha\")\n",
        "\n",
        "print(\"Raissa\")\n",
        "\n",
        "print(\"Anakin\")\n",
        "print(\"Radiohead\")\n",
        "\n",
        "print(\"Down came the rain\\nand washed the spider out.\")\n",
        "\n",
        "#2.1.9\n",
        "\n",
        "print(\"The itsy bitsy spider\" , \"climbed up\" , \"the waterspout.\")\n",
        "\n",
        "print(\"My name is\", \"Python\" , end=\" \")\n",
        "print(\"Monty Python.\")\n",
        "\n",
        "print(\"My\", \"name\", \"is\", \"Monty\", \"Python.\" , sep=\"+\")\n",
        "print(\"Programming\", \"essentials\", \"in...Python\", sep=\"***\")\n",
        "print(\"My\\nname\\nis\\nBond.\", end=\" \")\n",
        "print(\"\\nMeu\\nnome\\né\\nRaissa\\n\" , end=\" \")\n",
        "\n",
        "print(\"&\", \"fish\", \"chips\", sep=\", \")\n",
        "\n",
        "print('Greg\\'s book.')\n",
        "print(\"'Greg's book.'\")\n",
        "print('\"Greg\\'s book.\"')\n",
        "print(\"Greg\\'s book.\")\n",
        "\n",
        "print(\"Greg's book.\")\n",
        "\n",
        "print(\"I like \\\"Monty Python\\\"\")\n",
        "\n",
        "print(True > False)"
      ],
      "metadata": {
        "colab": {
          "base_uri": "https://localhost:8080/",
          "height": 106
        },
        "id": "_JJ6p7wz4urj",
        "outputId": "962ae4da-f5a3-4ca8-937f-46700b163c5b"
      },
      "execution_count": 40,
      "outputs": [
        {
          "output_type": "error",
          "ename": "SyntaxError",
          "evalue": "unexpected character after line continuation character (<ipython-input-40-2f3146a9b116>, line 36)",
          "traceback": [
            "\u001b[0;36m  File \u001b[0;32m\"<ipython-input-40-2f3146a9b116>\"\u001b[0;36m, line \u001b[0;32m36\u001b[0m\n\u001b[0;31m    print(\"\\\"eu\"\\\")\u001b[0m\n\u001b[0m                 ^\u001b[0m\n\u001b[0;31mSyntaxError\u001b[0m\u001b[0;31m:\u001b[0m unexpected character after line continuation character\n"
          ]
        }
      ]
    },
    {
      "cell_type": "code",
      "source": [
        "print(\"\\\"I'm\\\"\\n\\\"\\\"learning\\\"\\\"\\n\\\"\\\"\\\"Python\\\"\\\"\\\"\")\n"
      ],
      "metadata": {
        "colab": {
          "base_uri": "https://localhost:8080/"
        },
        "id": "Dics8tscFX6Z",
        "outputId": "b8a5e11e-473b-4478-edad-06994dbf4e1a"
      },
      "execution_count": 41,
      "outputs": [
        {
          "output_type": "stream",
          "name": "stdout",
          "text": [
            "\"I'm\"\n",
            "\"\"learning\"\"\n",
            "\"\"\"Python\"\"\"\n"
          ]
        }
      ]
    },
    {
      "cell_type": "code",
      "source": [
        "print(14 % 4)\n",
        "print(6. // -4)\n",
        "print(-6 // 4)\n",
        "print(6. // 4)\n",
        "print(6 // 4)\n",
        "print(6. // 3.)\n",
        "print(12 % 4.5)\n",
        "print(-4 - 4)\n",
        "print(4. - 8)\n",
        "print(-1.1)\n",
        "print(9 % 6 % 2)\n",
        "print(2 ** 2 ** 3)\n",
        "print(-(3 ** 2))\n",
        "print((5 * ((25 % 13) + 100) / (2 * 13)) // 2)\n",
        "\n"
      ],
      "metadata": {
        "colab": {
          "base_uri": "https://localhost:8080/"
        },
        "id": "8SaEFjbHHqpr",
        "outputId": "00e9d062-ded8-41f4-c67c-644cdc7767ca"
      },
      "execution_count": 57,
      "outputs": [
        {
          "output_type": "stream",
          "name": "stdout",
          "text": [
            "2\n",
            "-2.0\n",
            "-2\n",
            "1.0\n",
            "1\n",
            "2.0\n",
            "3.0\n",
            "-8\n",
            "-4.0\n",
            "-1.1\n",
            "1\n",
            "256\n",
            "-9\n",
            "10.0\n"
          ]
        }
      ]
    },
    {
      "cell_type": "code",
      "source": [
        "print((2 ** 4), (2 * 4.), (2 * 4))\n",
        "print((-2 / 4), (2 / 4), (2 // 4), (-2 // 4))\n",
        "print((2 % -4), (2 % 4), (2 ** 3 ** 2))\n",
        "print((2 % -4))\n",
        "print(2 % -4, 2 % 4, 2 ** 3 ** 2)"
      ],
      "metadata": {
        "colab": {
          "base_uri": "https://localhost:8080/"
        },
        "id": "obMtdIPWLVwU",
        "outputId": "ad920f4e-3cac-4977-fa6d-68662d50780b"
      },
      "execution_count": 64,
      "outputs": [
        {
          "output_type": "stream",
          "name": "stdout",
          "text": [
            "16 8.0 8\n",
            "-0.5 0.5 0 -1\n",
            "-2 2 512\n",
            "-2\n",
            "-2 2 512\n"
          ]
        }
      ]
    }
  ]
}